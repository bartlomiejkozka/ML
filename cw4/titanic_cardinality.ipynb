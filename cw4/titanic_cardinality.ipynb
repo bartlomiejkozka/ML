{
 "cells": [
  {
   "cell_type": "code",
   "execution_count": 8,
   "id": "2ca36e28",
   "metadata": {},
   "outputs": [],
   "source": [
    "import pandas as pd\n",
    "import numpy as np\n",
    "import matplotlib.pyplot as plt\n",
    "import seaborn as sns"
   ]
  },
  {
   "cell_type": "markdown",
   "id": "d386afad",
   "metadata": {},
   "source": [
    "## Wczytanie danych o Titanicu"
   ]
  },
  {
   "cell_type": "code",
   "execution_count": 16,
   "id": "9e0ced5e",
   "metadata": {},
   "outputs": [],
   "source": [
    "attribute_names = []\n",
    "with open(\"Zbiór danych Titanic.arff.txt\", \"r\", encoding=\"utf-8\") as file:\n",
    "    for line in file:\n",
    "        line = line.strip()\n",
    "        if line.lower().startswith(\"@attribute\"):\n",
    "            attribute_name = line.split()[1].strip(\"'\")\n",
    "            attribute_names.append(attribute_name)\n",
    "\n",
    "titanic_data = pd.read_csv(\n",
    "    \"Zbiór danych Titanic.arff.txt\",\n",
    "    skiprows=17,\n",
    "    names=attribute_names,\n",
    "    na_values=[\"?\"])\n"
   ]
  },
  {
   "cell_type": "markdown",
   "id": "fef8bf37",
   "metadata": {},
   "source": [
    "## Analiza Kardynalności cech"
   ]
  },
  {
   "cell_type": "markdown",
   "id": "7e307651",
   "metadata": {},
   "source": [
    "#### Podsumowanie kardynalności wszytkich cech zbioru"
   ]
  },
  {
   "cell_type": "code",
   "execution_count": 17,
   "id": "d21151bd",
   "metadata": {},
   "outputs": [
    {
     "name": "stdout",
     "output_type": "stream",
     "text": [
      "Liczba etykiet zmiennej pclass    :     3\n",
      "Liczba etykiet zmiennej survived  :     2\n",
      "Liczba etykiet zmiennej name      :  1307\n",
      "Liczba etykiet zmiennej sex       :     2\n",
      "Liczba etykiet zmiennej age       :    99\n",
      "Liczba etykiet zmiennej sibsp     :     7\n",
      "Liczba etykiet zmiennej parch     :     8\n",
      "Liczba etykiet zmiennej ticket    :   929\n",
      "Liczba etykiet zmiennej fare      :   282\n",
      "Liczba etykiet zmiennej cabin     :   187\n",
      "Liczba etykiet zmiennej embarked  :     4\n",
      "Liczba etykiet zmiennej boat      :    28\n",
      "Liczba etykiet zmiennej body      :   122\n",
      "Liczba etykiet zmiennej home.dest :   370\n"
     ]
    }
   ],
   "source": [
    "headers = titanic_data.columns.tolist()\n",
    "cardinality = {}\n",
    "for habit in headers: \n",
    "    tmp = len(titanic_data[habit].unique())\n",
    "    cardinality[habit] = tmp\n",
    "    print(f'Liczba etykiet zmiennej {habit:<10}: {tmp:>5}')"
   ]
  },
  {
   "cell_type": "markdown",
   "id": "66411e00",
   "metadata": {},
   "source": [
    "#### Liczba wszystkich pasażerów statku"
   ]
  },
  {
   "cell_type": "code",
   "execution_count": 11,
   "id": "0819ccf5",
   "metadata": {},
   "outputs": [
    {
     "name": "stdout",
     "output_type": "stream",
     "text": [
      "Liczba wszystkich pasażerów: 1309\n",
      "Liczba pasażerów po usunięciu duplikatów: 1307\n",
      "     pclass  survived                  name     sex   age  sibsp  parch  \\\n",
      "725       3         1  Connolly, Miss. Kate  female  22.0      0      0   \n",
      "726       3         0  Connolly, Miss. Kate  female  30.0      0      0   \n",
      "924       3         0      Kelly, Mr. James    male  34.5      0      0   \n",
      "925       3         0      Kelly, Mr. James    male  44.0      0      0   \n",
      "\n",
      "     ticket    fare cabin embarked boat  body home.dest  \n",
      "725  370373  7.7500   NaN        Q   13   NaN   Ireland  \n",
      "726  330972  7.6292   NaN        Q  NaN   NaN   Ireland  \n",
      "924  330911  7.8292   NaN        Q  NaN  70.0       NaN  \n",
      "925  363592  8.0500   NaN        S  NaN   NaN       NaN  \n"
     ]
    }
   ],
   "source": [
    "print('Liczba wszystkich pasażerów:', len(titanic_data))\n",
    "titanic_data_filt = titanic_data.drop_duplicates(subset=\"name\", keep='first')\n",
    "print('Liczba pasażerów po usunięciu duplikatów:', len(titanic_data_filt))\n",
    "\n",
    "duplicated_rows_by_name = titanic_data[titanic_data.duplicated(subset=\"name\", keep=False)]\n",
    "print(duplicated_rows_by_name)"
   ]
  },
  {
   "cell_type": "markdown",
   "id": "68f3e6b0",
   "metadata": {},
   "source": [
    "### Kategoryzacja kardynalności cech na dużą i małą"
   ]
  },
  {
   "cell_type": "code",
   "execution_count": 12,
   "id": "286be19e",
   "metadata": {},
   "outputs": [
    {
     "name": "stdout",
     "output_type": "stream",
     "text": [
      "Cechy o DUZEJ kardynalnosci: name, age, ticket, fare, cabin, body, home.dest\n",
      "Cechy o MALEJ kardynalnosci: pclass, survived, sex, sibsp, parch, embarked, boat\n"
     ]
    }
   ],
   "source": [
    "majorCardinality = [key for key, value in cardinality.items() if value > 50]\n",
    "minorCardinality = [key for key, value in cardinality.items() if value <= 50]\n",
    "print(\"Cechy o DUZEJ kardynalnosci:\", end=\" \")\n",
    "print(\", \".join(map(str, majorCardinality)))\n",
    "print(\"Cechy o MALEJ kardynalnosci:\", end=\" \")\n",
    "print(\", \".join(map(str, minorCardinality)))"
   ]
  },
  {
   "cell_type": "code",
   "execution_count": 13,
   "id": "d9b20475",
   "metadata": {},
   "outputs": [
    {
     "name": "stdout",
     "output_type": "stream",
     "text": [
      "Liczba unikalnych kabin: 186\n"
     ]
    },
    {
     "data": {
      "text/plain": [
       "numpy.ndarray"
      ]
     },
     "execution_count": 13,
     "metadata": {},
     "output_type": "execute_result"
    }
   ],
   "source": [
    "unique_cabins = np.unique(titanic_data['cabin'].dropna())\n",
    "print(f'Liczba unikalnych kabin: {len(unique_cabins)}')\n",
    "type(unique_cabins)"
   ]
  },
  {
   "cell_type": "markdown",
   "id": "ea9329ae",
   "metadata": {},
   "source": [
    "### Redukcja chechy 'cabin'"
   ]
  },
  {
   "cell_type": "code",
   "execution_count": 18,
   "id": "beafbe36",
   "metadata": {},
   "outputs": [
    {
     "name": "stdout",
     "output_type": "stream",
     "text": [
      "      cabin CabinReduced\n",
      "0        B5            B\n",
      "1   C22 C26            C\n",
      "2   C22 C26            C\n",
      "3   C22 C26            C\n",
      "4   C22 C26            C\n",
      "5       E12            E\n",
      "6        D7            D\n",
      "7       A36            A\n",
      "8      C101            C\n",
      "9       NaN          NaN\n",
      "10  C62 C64            C\n",
      "11  C62 C64            C\n",
      "12      B35            B\n",
      "13      NaN          NaN\n",
      "14      A23            A\n",
      "15      NaN          NaN\n",
      "16  B58 B60            B\n",
      "17  B58 B60            B\n",
      "18      D15            D\n",
      "19       C6            C\n"
     ]
    }
   ],
   "source": [
    "titanic_data['CabinReduced'] = titanic_data['cabin'].astype(str).str[0]\n",
    "titanic_data['CabinReduced'] = titanic_data['CabinReduced'].replace('n', np.nan)\n",
    "print(titanic_data[['cabin', 'CabinReduced']].head(20))\n",
    "\n",
    "titanic_data.to_csv(\"..\\\\cw5\\\\titanic_data.csv\", index=False)"
   ]
  },
  {
   "cell_type": "code",
   "execution_count": 15,
   "id": "67effe22",
   "metadata": {},
   "outputs": [
    {
     "name": "stdout",
     "output_type": "stream",
     "text": [
      "Liczba etykiet zmiennej pclass         :     3\n",
      "Liczba etykiet zmiennej survived       :     2\n",
      "Liczba etykiet zmiennej name           :  1307\n",
      "Liczba etykiet zmiennej sex            :     2\n",
      "Liczba etykiet zmiennej age            :    99\n",
      "Liczba etykiet zmiennej sibsp          :     7\n",
      "Liczba etykiet zmiennej parch          :     8\n",
      "Liczba etykiet zmiennej ticket         :   929\n",
      "Liczba etykiet zmiennej fare           :   282\n",
      "Liczba etykiet zmiennej cabin          :   187\n",
      "Liczba etykiet zmiennej embarked       :     4\n",
      "Liczba etykiet zmiennej boat           :    28\n",
      "Liczba etykiet zmiennej body           :   122\n",
      "Liczba etykiet zmiennej home.dest      :   370\n",
      "Liczba etykiet zmiennej CabinReduced   :     9\n",
      "\n",
      "Procent zmniejszenia kardynalności kabin: 95.19%\n"
     ]
    }
   ],
   "source": [
    "headers = titanic_data.columns.tolist()\n",
    "cardinality = {}\n",
    "for habit in headers: \n",
    "    tmp = len(titanic_data[habit].unique())\n",
    "    cardinality[habit] = tmp\n",
    "    print(f'Liczba etykiet zmiennej {habit:<15}: {tmp:>5}')\n",
    "\n",
    "reducePercent = 100 * ((len(titanic_data['cabin'].unique()) - len(titanic_data['CabinReduced'].unique()))) / len(titanic_data['cabin'].unique())\n",
    "print()\n",
    "print(f'Procent zmniejszenia kardynalności kabin: {reducePercent:.2f}%')"
   ]
  },
  {
   "cell_type": "markdown",
   "id": "4a1ab32a",
   "metadata": {},
   "source": [
    "### Uzasadnienie redukcji kolumny 'cabin'\n",
    "\n",
    "Redukcja zmiennej 'Cabin' polega na jej uproszczeniu z pełnego numeru (np. 'E12') do pierwszej litery (czyli w tym wypadku: 'E'). Prowadzi to do znacznego zmniejszenia liczby unikalnych wartości, co w dalszym ciągu może znacznie poprawić kategoryzację (imputację) brakujących wartości tej cechy.\n",
    "\n",
    "Uproszczenie to nie wpływa w żaden znaczący sposób na utratę istotnych wniosków (danych) ze zbioru, ponieważ po pierwszej literze danej kabiny można ją skategoryzować do odpowiedniej klasy (piętra), do której ta kabina należała.\n",
    "\n",
    "Podsumowując, zmiana ta nie wpływa w żaden negatywny sposób na nasz zbiór danych, a wręcz upraszcza go, dzięki czemu zbiór staje się bardziej czytelny i łatwiejszy do interpretacji, przy czym nie pozbywamy się żadnych ważnych informacji."
   ]
  }
 ],
 "metadata": {
  "kernelspec": {
   "display_name": ".venv",
   "language": "python",
   "name": "python3"
  },
  "language_info": {
   "codemirror_mode": {
    "name": "ipython",
    "version": 3
   },
   "file_extension": ".py",
   "mimetype": "text/x-python",
   "name": "python",
   "nbconvert_exporter": "python",
   "pygments_lexer": "ipython3",
   "version": "3.11.9"
  }
 },
 "nbformat": 4,
 "nbformat_minor": 5
}
