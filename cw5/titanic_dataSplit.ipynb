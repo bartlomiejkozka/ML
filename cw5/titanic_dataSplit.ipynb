{
 "cells": [
  {
   "cell_type": "code",
   "execution_count": 3,
   "id": "c8db19eb",
   "metadata": {},
   "outputs": [],
   "source": [
    "import pandas as pd\n",
    "import numpy as np\n",
    "import matplotlib.pyplot as plt\n",
    "import seaborn as sns\n",
    "import sklearn as sk"
   ]
  },
  {
   "cell_type": "code",
   "execution_count": 5,
   "id": "30136dc2",
   "metadata": {},
   "outputs": [
    {
     "data": {
      "text/html": [
       "<div>\n",
       "<style scoped>\n",
       "    .dataframe tbody tr th:only-of-type {\n",
       "        vertical-align: middle;\n",
       "    }\n",
       "\n",
       "    .dataframe tbody tr th {\n",
       "        vertical-align: top;\n",
       "    }\n",
       "\n",
       "    .dataframe thead th {\n",
       "        text-align: right;\n",
       "    }\n",
       "</style>\n",
       "<table border=\"1\" class=\"dataframe\">\n",
       "  <thead>\n",
       "    <tr style=\"text-align: right;\">\n",
       "      <th></th>\n",
       "      <th>pclass</th>\n",
       "      <th>survived</th>\n",
       "      <th>name</th>\n",
       "      <th>sex</th>\n",
       "      <th>age</th>\n",
       "      <th>sibsp</th>\n",
       "      <th>parch</th>\n",
       "      <th>ticket</th>\n",
       "      <th>fare</th>\n",
       "      <th>cabin</th>\n",
       "      <th>embarked</th>\n",
       "      <th>boat</th>\n",
       "      <th>body</th>\n",
       "      <th>home.dest</th>\n",
       "      <th>CabinReduced</th>\n",
       "    </tr>\n",
       "  </thead>\n",
       "  <tbody>\n",
       "    <tr>\n",
       "      <th>0</th>\n",
       "      <td>1</td>\n",
       "      <td>1</td>\n",
       "      <td>Allen, Miss. Elisabeth Walton</td>\n",
       "      <td>female</td>\n",
       "      <td>29.0000</td>\n",
       "      <td>0</td>\n",
       "      <td>0</td>\n",
       "      <td>24160</td>\n",
       "      <td>211.3375</td>\n",
       "      <td>B5</td>\n",
       "      <td>S</td>\n",
       "      <td>2</td>\n",
       "      <td>NaN</td>\n",
       "      <td>St Louis, MO</td>\n",
       "      <td>B</td>\n",
       "    </tr>\n",
       "    <tr>\n",
       "      <th>1</th>\n",
       "      <td>1</td>\n",
       "      <td>1</td>\n",
       "      <td>Allison, Master. Hudson Trevor</td>\n",
       "      <td>male</td>\n",
       "      <td>0.9167</td>\n",
       "      <td>1</td>\n",
       "      <td>2</td>\n",
       "      <td>113781</td>\n",
       "      <td>151.5500</td>\n",
       "      <td>C22 C26</td>\n",
       "      <td>S</td>\n",
       "      <td>11</td>\n",
       "      <td>NaN</td>\n",
       "      <td>Montreal, PQ / Chesterville, ON</td>\n",
       "      <td>C</td>\n",
       "    </tr>\n",
       "    <tr>\n",
       "      <th>2</th>\n",
       "      <td>1</td>\n",
       "      <td>0</td>\n",
       "      <td>Allison, Miss. Helen Loraine</td>\n",
       "      <td>female</td>\n",
       "      <td>2.0000</td>\n",
       "      <td>1</td>\n",
       "      <td>2</td>\n",
       "      <td>113781</td>\n",
       "      <td>151.5500</td>\n",
       "      <td>C22 C26</td>\n",
       "      <td>S</td>\n",
       "      <td>NaN</td>\n",
       "      <td>NaN</td>\n",
       "      <td>Montreal, PQ / Chesterville, ON</td>\n",
       "      <td>C</td>\n",
       "    </tr>\n",
       "    <tr>\n",
       "      <th>3</th>\n",
       "      <td>1</td>\n",
       "      <td>0</td>\n",
       "      <td>Allison, Mr. Hudson Joshua Creighton</td>\n",
       "      <td>male</td>\n",
       "      <td>30.0000</td>\n",
       "      <td>1</td>\n",
       "      <td>2</td>\n",
       "      <td>113781</td>\n",
       "      <td>151.5500</td>\n",
       "      <td>C22 C26</td>\n",
       "      <td>S</td>\n",
       "      <td>NaN</td>\n",
       "      <td>135.0</td>\n",
       "      <td>Montreal, PQ / Chesterville, ON</td>\n",
       "      <td>C</td>\n",
       "    </tr>\n",
       "    <tr>\n",
       "      <th>4</th>\n",
       "      <td>1</td>\n",
       "      <td>0</td>\n",
       "      <td>Allison, Mrs. Hudson J C (Bessie Waldo Daniels)</td>\n",
       "      <td>female</td>\n",
       "      <td>25.0000</td>\n",
       "      <td>1</td>\n",
       "      <td>2</td>\n",
       "      <td>113781</td>\n",
       "      <td>151.5500</td>\n",
       "      <td>C22 C26</td>\n",
       "      <td>S</td>\n",
       "      <td>NaN</td>\n",
       "      <td>NaN</td>\n",
       "      <td>Montreal, PQ / Chesterville, ON</td>\n",
       "      <td>C</td>\n",
       "    </tr>\n",
       "  </tbody>\n",
       "</table>\n",
       "</div>"
      ],
      "text/plain": [
       "   pclass  survived                                             name     sex  \\\n",
       "0       1         1                    Allen, Miss. Elisabeth Walton  female   \n",
       "1       1         1                   Allison, Master. Hudson Trevor    male   \n",
       "2       1         0                     Allison, Miss. Helen Loraine  female   \n",
       "3       1         0             Allison, Mr. Hudson Joshua Creighton    male   \n",
       "4       1         0  Allison, Mrs. Hudson J C (Bessie Waldo Daniels)  female   \n",
       "\n",
       "       age  sibsp  parch  ticket      fare    cabin embarked boat   body  \\\n",
       "0  29.0000      0      0   24160  211.3375       B5        S    2    NaN   \n",
       "1   0.9167      1      2  113781  151.5500  C22 C26        S   11    NaN   \n",
       "2   2.0000      1      2  113781  151.5500  C22 C26        S  NaN    NaN   \n",
       "3  30.0000      1      2  113781  151.5500  C22 C26        S  NaN  135.0   \n",
       "4  25.0000      1      2  113781  151.5500  C22 C26        S  NaN    NaN   \n",
       "\n",
       "                         home.dest CabinReduced  \n",
       "0                     St Louis, MO            B  \n",
       "1  Montreal, PQ / Chesterville, ON            C  \n",
       "2  Montreal, PQ / Chesterville, ON            C  \n",
       "3  Montreal, PQ / Chesterville, ON            C  \n",
       "4  Montreal, PQ / Chesterville, ON            C  "
      ]
     },
     "execution_count": 5,
     "metadata": {},
     "output_type": "execute_result"
    }
   ],
   "source": [
    "titanic_data = pd.read_csv(\"titanic_data.csv\")\n",
    "titanic_data.head()"
   ]
  },
  {
   "cell_type": "markdown",
   "id": "3a2c8fc7",
   "metadata": {},
   "source": [
    "#### funkcja `train_test_split` - służy do losowego podziału danych na zbiór treningowy oraz tetowy.\n",
    "przyjmowane argumnety: \\\n",
    "\\\n",
    "`X` - dane wejściowe (zmienna niezależna)\\\n",
    "`y` - etykiety (zmienna zależna - przewidywana)\\\n",
    "`test_size` - procent liczby danych przeznaczonych na testy \\\n",
    "`train_size` - procent liczby danych przeznaczonych na zbiór treningowy \\\n",
    "`random_state` - ziarno losowe"
   ]
  },
  {
   "cell_type": "code",
   "execution_count": 28,
   "id": "d3c061d5",
   "metadata": {},
   "outputs": [
    {
     "name": "stdout",
     "output_type": "stream",
     "text": [
      "(1047, 3) (262, 3)\n",
      "(1047,) (262,)\n"
     ]
    }
   ],
   "source": [
    "col_name = [\"cabin\", \"CabinReduced\", \"sex\"]\n",
    "X_train, X_test, y_train, y_test = sk.model_selection.train_test_split(\n",
    "    titanic_data[col_name], titanic_data[\"survived\"], test_size=0.2, random_state=0\n",
    ")\n",
    "print(X_train.shape, X_test.shape)\n",
    "print(y_train.shape, y_test.shape)"
   ]
  },
  {
   "cell_type": "code",
   "execution_count": 29,
   "id": "146e3ab6",
   "metadata": {},
   "outputs": [
    {
     "name": "stdout",
     "output_type": "stream",
     "text": [
      "24\n",
      "1\n",
      "0\n"
     ]
    }
   ],
   "source": [
    "for col in col_name:\n",
    "    Unique_test = [x for x in X_test[col].unique() if x not in X_train[col].unique()]\n",
    "    print(len(Unique_test))"
   ]
  },
  {
   "cell_type": "markdown",
   "id": "5856f58d",
   "metadata": {},
   "source": [
    "Jak możemy zaobserwować, rozkład etykiet dla etykiet z cechy caibn nie jest równomierny w zbiorze treningowym oraz testowym. Może to prowadzić, to błędengo przewidywania wartości zależnej na zbiorze testowym, gydż, model będzie miał do czynienia z etykietami, których nie było w zbiorze trenignowym."
   ]
  },
  {
   "cell_type": "code",
   "execution_count": 36,
   "id": "ea89ae9c",
   "metadata": {},
   "outputs": [
    {
     "name": "stdout",
     "output_type": "stream",
     "text": [
      "     cabin CabinReduced     sex  cabin_map  CabinReduced_map  sex_map\n",
      "1118   NaN          NaN    male        NaN               NaN        1\n",
      "44     E40            E  female      160.0               4.0        0\n",
      "1072   NaN          NaN    male        NaN               NaN        1\n",
      "1130   NaN          NaN  female        NaN               NaN        0\n",
      "574    NaN          NaN    male        NaN               NaN        1\n",
      "     cabin CabinReduced     sex  cabin_map  CabinReduced_map  sex_map\n",
      "1139   NaN          NaN    male        NaN               NaN        1\n",
      "533    NaN          NaN  female        NaN               NaN        0\n",
      "459    NaN          NaN    male        NaN               NaN        1\n",
      "1150   NaN          NaN    male        NaN               NaN        1\n",
      "393    NaN          NaN    male        NaN               NaN        1\n"
     ]
    }
   ],
   "source": [
    "for col in col_name:\n",
    "    unique_vals = set(X_train[col].dropna().unique()).union(set(X_test[col].dropna().unique()))\n",
    "    mapping = {val: i for i, val in enumerate(sorted(unique_vals))}\n",
    "    X_train[col + \"_map\"] = X_train[col].map(mapping)\n",
    "    X_test[col + \"_map\"] = X_test[col].map(mapping)\n",
    "\n",
    "print(X_train.head())\n",
    "print(X_test.head())"
   ]
  },
  {
   "cell_type": "code",
   "execution_count": 46,
   "id": "30b76516",
   "metadata": {},
   "outputs": [
    {
     "name": "stdout",
     "output_type": "stream",
     "text": [
      "\n",
      "Liczba wartości w zbiorze treningowym:\n",
      "cabin_map 1047\n",
      "CabinReduced_map 1047\n",
      "sex_map 1047\n",
      "Braki w zbiorze treningowym:\n",
      "cabin_map           803\n",
      "CabinReduced_map    803\n",
      "sex_map               0\n",
      "dtype: int64\n",
      "\n",
      "Liczba wartości w zbiorze testowym:\n",
      "cabin_map 262\n",
      "CabinReduced_map 262\n",
      "sex_map 262\n",
      "\n",
      "Braki w zbiorze testowym:\n",
      "cabin_map           211\n",
      "CabinReduced_map    211\n",
      "sex_map               0\n",
      "dtype: int64\n"
     ]
    }
   ],
   "source": [
    "colmap = ['cabin_map', 'CabinReduced_map', 'sex_map']\n",
    "\n",
    "print(\"\\nLiczba wartości w zbiorze treningowym:\")\n",
    "for col in colmap:\n",
    "    print(col, len(X_train[col]))\n",
    "print(\"Braki w zbiorze treningowym:\")\n",
    "print(X_train[['cabin_map', 'CabinReduced_map', 'sex_map']].isnull().sum())\n",
    "\n",
    "print(\"\\nLiczba wartości w zbiorze testowym:\")\n",
    "for col in colmap:\n",
    "    print(col, len(X_test[col]))\n",
    "print(\"\\nBraki w zbiorze testowym:\")\n",
    "print(X_test[['cabin_map', 'CabinReduced_map', 'sex_map']].isnull().sum())\n"
   ]
  },
  {
   "cell_type": "markdown",
   "id": "3ead53a8",
   "metadata": {},
   "source": [
    "W zbiorze treningowym i testowym zauważalna jest duża liczba brakujących wartości w kolumnach cabin_map oraz CabinReduced_map. Szczególnie dotyczy to:\n",
    "\n",
    "Zbiór treningowy: około 23% braków (1047 ogółem, z czego 803 wartości obecnych).\n",
    "Zbiór testowy: aż ponad 80% braków w tych kolumnach (262 ogółem, z czego tylko 51 wartości obecnych).\n",
    "Kolumna sex_map nie zawiera braków w żadnym ze zbiorów, więc nie wymaga uzupełniania.\n",
    "\n",
    "W kolejnych krokach należy uzupełnić brakujące dane, aby umożliwić modelowi skuteczne uczenie."
   ]
  },
  {
   "cell_type": "code",
   "execution_count": 49,
   "id": "4ffc084a",
   "metadata": {},
   "outputs": [
    {
     "name": "stdout",
     "output_type": "stream",
     "text": [
      "     cabin CabinReduced     sex  cabin_map  CabinReduced_map  sex_map\n",
      "1118   NaN          NaN    male          0                 0        1\n",
      "44     E40            E  female        160                 4        0\n",
      "1072   NaN          NaN    male          0                 0        1\n",
      "1130   NaN          NaN  female          0                 0        0\n",
      "574    NaN          NaN    male          0                 0        1\n",
      "     cabin CabinReduced     sex  cabin_map  CabinReduced_map  sex_map\n",
      "1139   NaN          NaN    male          0                 0        1\n",
      "533    NaN          NaN  female          0                 0        0\n",
      "459    NaN          NaN    male          0                 0        1\n",
      "1150   NaN          NaN    male          0                 0        1\n",
      "393    NaN          NaN    male          0                 0        1\n"
     ]
    }
   ],
   "source": [
    "for col in colmap:\n",
    "    X_train[col] = X_train[col].fillna(0).astype(int)\n",
    "    X_test[col] = X_test[col].fillna(0).astype(int)\n",
    "\n",
    "print(X_train.head())\n",
    "print(X_test.head())"
   ]
  },
  {
   "cell_type": "markdown",
   "id": "1eb243f6",
   "metadata": {},
   "source": [
    "Zastąpienie brakujących wartości zerami w przypadku kolumn cabin jest poprawną opcją, gdyż jest to zmenna kategoryczna, a nie liczbowa. Dla kolumn takich jak cabin_map, gdzie dane reprezentują pewną kategoryczną lub binarną informację, najlepsze podejścia to:\n",
    "- zastąpienie wartością spcejlaną np. 0 (-1)\n",
    "- zastąpienie wartościa najczęściej się powtarzającą"
   ]
  },
  {
   "cell_type": "code",
   "execution_count": 53,
   "id": "6d4ae58e",
   "metadata": {},
   "outputs": [
    {
     "name": "stdout",
     "output_type": "stream",
     "text": [
      "Przed mapowaniem\n",
      "Liczba unikalnych wartości w zbiorze treningowym:\n",
      "cabin 164\n",
      "CabinReduced 9\n",
      "sex 2\n",
      "Liczba unikalnych wartości w zbiorze testowym:\n",
      "cabin 49\n",
      "CabinReduced 8\n",
      "sex 2\n",
      "------------------------------\n",
      "Po mapowaniu\n",
      "Liczba unikalnych wartości w zbiorze treningowym:\n",
      "cabin_map 163\n",
      "CabinReduced_map 8\n",
      "sex_map 2\n",
      "Liczba unikalnych wartości w zbiorze testowym:\n",
      "cabin_map 49\n",
      "CabinReduced_map 7\n",
      "sex_map 2\n"
     ]
    }
   ],
   "source": [
    "print(\"Przed mapowaniem\")\n",
    "print(\"Liczba unikalnych wartości w zbiorze treningowym:\")\n",
    "for col in col_name:\n",
    "    print(col, len(X_train[col].unique()))\n",
    "print(\"Liczba unikalnych wartości w zbiorze testowym:\")\n",
    "for col in col_name:\n",
    "    print(col, len(X_test[col].unique()))\n",
    "\n",
    "print(\"------------------------------\")\n",
    "print(\"Po mapowaniu\")\n",
    "print(\"Liczba unikalnych wartości w zbiorze treningowym:\")\n",
    "for col in colmap:\n",
    "    print(col, len(X_train[col].unique()))\n",
    "print(\"Liczba unikalnych wartości w zbiorze testowym:\")\n",
    "for col in colmap:\n",
    "    print(col, len(X_test[col].unique()))"
   ]
  },
  {
   "cell_type": "markdown",
   "id": "f1346f4b",
   "metadata": {},
   "source": [
    "Proces redukcji cabin, znacznie zmniejszył różnicę etykiet w zbiorze treningowym w porównaniu do zbioru testowego. Tego właśnie oczekiwaliśmy, aby dążyć do takiego samego rozkładu równomiernego cech w zborze treningowym i zbiorze testowym.\n",
    "Samo mapowanie, nie wpłyneło w żaden sposób na zmniejszenie różnicy w rozkładach cech, gdyż wartości których nie było w zbiorze treningowym, a w zbiorze testowym były, zostawały zastępowane przez kolejne unikatowe wartości.\n",
    "\n",
    "Tak, więc cały proces może wpłynąc pozytywnie na końcowy wynik predykcji modelu oraz jego jakości, gdyż, będzie on pracował, na dancyh z dużo mniejszą różnicą rozkładów cech pomiędzy zbiorem treningowym, a testowym, przez to predyckje na zbiorze testowym będą znacznie lepsze, i trafniejsze."
   ]
  }
 ],
 "metadata": {
  "kernelspec": {
   "display_name": ".venv",
   "language": "python",
   "name": "python3"
  },
  "language_info": {
   "codemirror_mode": {
    "name": "ipython",
    "version": 3
   },
   "file_extension": ".py",
   "mimetype": "text/x-python",
   "name": "python",
   "nbconvert_exporter": "python",
   "pygments_lexer": "ipython3",
   "version": "3.11.8"
  }
 },
 "nbformat": 4,
 "nbformat_minor": 5
}
